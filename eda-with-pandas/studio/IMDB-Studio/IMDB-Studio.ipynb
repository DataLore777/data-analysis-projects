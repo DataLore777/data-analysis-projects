{
 "cells": [
  {
   "cell_type": "markdown",
   "id": "2f470e67-1623-4416-b9c2-8367f7834a26",
   "metadata": {},
   "source": [
    "# Exploratory Data Analysis with pandas Studio\n",
    "\n",
    "## Data Analysis of IMDB movies data\n",
    "\n",
    "#### Blocks have been created for your code\n",
    "\n",
    "#### Click on the following link and download the dataset from [Kaggle](https://www.kaggle.com/PromptCloudHQ/imdb-data)."
   ]
  },
  {
   "cell_type": "markdown",
   "id": "34632281-1e15-44b1-a3e3-b82ddacb5cbd",
   "metadata": {},
   "source": [
    "### 1. Read data"
   ]
  },
  {
   "cell_type": "code",
   "execution_count": 16,
   "id": "070ebed9-c948-4821-9a24-67f0e3fe8fce",
   "metadata": {},
   "outputs": [
    {
     "name": "stdout",
     "output_type": "stream",
     "text": [
      "    Rank                                    Title                       Genre  \\\n",
      "0      1                  Guardians of the Galaxy     Action,Adventure,Sci-Fi   \n",
      "1      2                               Prometheus    Adventure,Mystery,Sci-Fi   \n",
      "2      3                                    Split             Horror,Thriller   \n",
      "3      4                                     Sing     Animation,Comedy,Family   \n",
      "4      5                            Suicide Squad    Action,Adventure,Fantasy   \n",
      "5      6                           The Great Wall    Action,Adventure,Fantasy   \n",
      "6      7                               La La Land          Comedy,Drama,Music   \n",
      "7      8                                 Mindhorn                      Comedy   \n",
      "8      9                       The Lost City of Z  Action,Adventure,Biography   \n",
      "9     10                               Passengers     Adventure,Drama,Romance   \n",
      "10    11  Fantastic Beasts and Where to Find Them    Adventure,Family,Fantasy   \n",
      "11    12                           Hidden Figures     Biography,Drama,History   \n",
      "12    13                                Rogue One     Action,Adventure,Sci-Fi   \n",
      "13    14                                    Moana  Animation,Adventure,Comedy   \n",
      "14    15                                 Colossal         Action,Comedy,Drama   \n",
      "\n",
      "                                          Description              Director  \\\n",
      "0   A group of intergalactic criminals are forced ...            James Gunn   \n",
      "1   Following clues to the origin of mankind, a te...          Ridley Scott   \n",
      "2   Three girls are kidnapped by a man with a diag...    M. Night Shyamalan   \n",
      "3   In a city of humanoid animals, a hustling thea...  Christophe Lourdelet   \n",
      "4   A secret government agency recruits some of th...            David Ayer   \n",
      "5   European mercenaries searching for black powde...           Yimou Zhang   \n",
      "6   A jazz pianist falls for an aspiring actress i...       Damien Chazelle   \n",
      "7   A has-been actor best known for playing the ti...            Sean Foley   \n",
      "8   A true-life drama, centering on British explor...            James Gray   \n",
      "9   A spacecraft traveling to a distant colony pla...         Morten Tyldum   \n",
      "10  The adventures of writer Newt Scamander in New...           David Yates   \n",
      "11  The story of a team of female African-American...        Theodore Melfi   \n",
      "12  The Rebel Alliance makes a risky move to steal...        Gareth Edwards   \n",
      "13  In Ancient Polynesia, when a terrible curse in...          Ron Clements   \n",
      "14  Gloria is an out-of-work party girl forced to ...       Nacho Vigalondo   \n",
      "\n",
      "                                               Actors  Year  \\\n",
      "0   Chris Pratt, Vin Diesel, Bradley Cooper, Zoe S...  2014   \n",
      "1   Noomi Rapace, Logan Marshall-Green, Michael Fa...  2012   \n",
      "2   James McAvoy, Anya Taylor-Joy, Haley Lu Richar...  2016   \n",
      "3   Matthew McConaughey,Reese Witherspoon, Seth Ma...  2016   \n",
      "4   Will Smith, Jared Leto, Margot Robbie, Viola D...  2016   \n",
      "5       Matt Damon, Tian Jing, Willem Dafoe, Andy Lau  2016   \n",
      "6   Ryan Gosling, Emma Stone, Rosemarie DeWitt, J....  2016   \n",
      "7   Essie Davis, Andrea Riseborough, Julian Barrat...  2016   \n",
      "8   Charlie Hunnam, Robert Pattinson, Sienna Mille...  2016   \n",
      "9   Jennifer Lawrence, Chris Pratt, Michael Sheen,...  2016   \n",
      "10  Eddie Redmayne, Katherine Waterston, Alison Su...  2016   \n",
      "11  Taraji P. Henson, Octavia Spencer, Janelle Mon...  2016   \n",
      "12  Felicity Jones, Diego Luna, Alan Tudyk, Donnie...  2016   \n",
      "13  Auli'i Cravalho, Dwayne Johnson, Rachel House,...  2016   \n",
      "14  Anne Hathaway, Jason Sudeikis, Austin Stowell,...  2016   \n",
      "\n",
      "    Runtime (Minutes)  Rating   Votes  Revenue (Millions)  Metascore  \n",
      "0                 121     8.1  757074              333.13       76.0  \n",
      "1                 124     7.0  485820              126.46       65.0  \n",
      "2                 117     7.3  157606              138.12       62.0  \n",
      "3                 108     7.2   60545              270.32       59.0  \n",
      "4                 123     6.2  393727              325.02       40.0  \n",
      "5                 103     6.1   56036               45.13       42.0  \n",
      "6                 128     8.3  258682              151.06       93.0  \n",
      "7                  89     6.4    2490                 NaN       71.0  \n",
      "8                 141     7.1    7188                8.01       78.0  \n",
      "9                 116     7.0  192177              100.01       41.0  \n",
      "10                133     7.5  232072              234.02       66.0  \n",
      "11                127     7.8   93103              169.27       74.0  \n",
      "12                133     7.9  323118              532.17       65.0  \n",
      "13                107     7.7  118151              248.75       81.0  \n",
      "14                109     6.4    8612                2.87       70.0  \n"
     ]
    }
   ],
   "source": [
    "# import pandas\n",
    "import pandas as pd\n",
    "# create your data variabe using .read_csv \n",
    "IMDB = pd.read_csv(\"IMDB-Movie-Data.csv\")\n",
    "# create your data_indexed variable here\n",
    "IMDB = pd.DataFrame(IMDB)\n",
    "print(IMDB.head(15))"
   ]
  },
  {
   "cell_type": "code",
   "execution_count": null,
   "id": "608c357a-271b-49c1-9b96-68b5c1cb7046",
   "metadata": {},
   "outputs": [],
   "source": [
    "# If you are having trouble reading your file, try finding the path.  \n",
    "    # Right click on your data set, on the pop-up menu select \"Copy Path\" then paste it into your read_csv() function."
   ]
  },
  {
   "cell_type": "code",
   "execution_count": null,
   "id": "5d8b578c-750c-491b-98d5-140a237ad940",
   "metadata": {},
   "outputs": [],
   "source": [
    "# Read data with specified explicit index\n",
    "\n",
    "\n",
    "\n",
    "#print(data_indexed)"
   ]
  },
  {
   "cell_type": "markdown",
   "id": "f449d3ea-91fe-45f5-8d6b-e6ccab3502d7",
   "metadata": {
    "tags": []
   },
   "source": [
    "### 2. View Data\n",
    "#### As we go through this section, write your own definitions of what each function does as a comment in the code box."
   ]
  },
  {
   "cell_type": "code",
   "execution_count": 18,
   "id": "ac9b2d61-7ed5-4e83-995d-c498036f37f9",
   "metadata": {},
   "outputs": [
    {
     "name": "stdout",
     "output_type": "stream",
     "text": [
      "   Rank                    Title                     Genre  \\\n",
      "0     1  Guardians of the Galaxy   Action,Adventure,Sci-Fi   \n",
      "1     2               Prometheus  Adventure,Mystery,Sci-Fi   \n",
      "2     3                    Split           Horror,Thriller   \n",
      "3     4                     Sing   Animation,Comedy,Family   \n",
      "4     5            Suicide Squad  Action,Adventure,Fantasy   \n",
      "\n",
      "                                         Description              Director  \\\n",
      "0  A group of intergalactic criminals are forced ...            James Gunn   \n",
      "1  Following clues to the origin of mankind, a te...          Ridley Scott   \n",
      "2  Three girls are kidnapped by a man with a diag...    M. Night Shyamalan   \n",
      "3  In a city of humanoid animals, a hustling thea...  Christophe Lourdelet   \n",
      "4  A secret government agency recruits some of th...            David Ayer   \n",
      "\n",
      "                                              Actors  Year  Runtime (Minutes)  \\\n",
      "0  Chris Pratt, Vin Diesel, Bradley Cooper, Zoe S...  2014                121   \n",
      "1  Noomi Rapace, Logan Marshall-Green, Michael Fa...  2012                124   \n",
      "2  James McAvoy, Anya Taylor-Joy, Haley Lu Richar...  2016                117   \n",
      "3  Matthew McConaughey,Reese Witherspoon, Seth Ma...  2016                108   \n",
      "4  Will Smith, Jared Leto, Margot Robbie, Viola D...  2016                123   \n",
      "\n",
      "   Rating   Votes  Revenue (Millions)  Metascore  \n",
      "0     8.1  757074              333.13       76.0  \n",
      "1     7.0  485820              126.46       65.0  \n",
      "2     7.3  157606              138.12       62.0  \n",
      "3     7.2   60545              270.32       59.0  \n",
      "4     6.2  393727              325.02       40.0  \n"
     ]
    }
   ],
   "source": [
    "# Use the head() function to view the first 5 rows of the data set\n",
    "print(IMDB.head(5))\n",
    "# This function returns the first (n) rows from the dataset."
   ]
  },
  {
   "cell_type": "code",
   "execution_count": 17,
   "id": "3fffca4b-90f4-4f73-a9af-f0b02886f8b3",
   "metadata": {},
   "outputs": [
    {
     "name": "stdout",
     "output_type": "stream",
     "text": [
      "     Rank                   Title                  Genre  \\\n",
      "995   996    Secret in Their Eyes    Crime,Drama,Mystery   \n",
      "996   997         Hostel: Part II                 Horror   \n",
      "997   998  Step Up 2: The Streets    Drama,Music,Romance   \n",
      "998   999            Search Party       Adventure,Comedy   \n",
      "999  1000              Nine Lives  Comedy,Family,Fantasy   \n",
      "\n",
      "                                           Description          Director  \\\n",
      "995  A tight-knit team of rising investigators, alo...         Billy Ray   \n",
      "996  Three American college students studying abroa...          Eli Roth   \n",
      "997  Romantic sparks occur between two dance studen...        Jon M. Chu   \n",
      "998  A pair of friends embark on a mission to reuni...    Scot Armstrong   \n",
      "999  A stuffy businessman finds himself trapped ins...  Barry Sonnenfeld   \n",
      "\n",
      "                                                Actors  Year  \\\n",
      "995  Chiwetel Ejiofor, Nicole Kidman, Julia Roberts...  2015   \n",
      "996  Lauren German, Heather Matarazzo, Bijou Philli...  2007   \n",
      "997  Robert Hoffman, Briana Evigan, Cassie Ventura,...  2008   \n",
      "998  Adam Pally, T.J. Miller, Thomas Middleditch,Sh...  2014   \n",
      "999  Kevin Spacey, Jennifer Garner, Robbie Amell,Ch...  2016   \n",
      "\n",
      "     Runtime (Minutes)  Rating  Votes  Revenue (Millions)  Metascore  \n",
      "995                111     6.2  27585                 NaN       45.0  \n",
      "996                 94     5.5  73152               17.54       46.0  \n",
      "997                 98     6.2  70699               58.01       50.0  \n",
      "998                 93     5.6   4881                 NaN       22.0  \n",
      "999                 87     5.3  12435               19.64       11.0  \n"
     ]
    }
   ],
   "source": [
    "# Use the tail() function to view the last 5 rows of the data set\n",
    "print(IMDB.tail(5))\n",
    "\n",
    "# This function returns the last (n) rows from the dataset."
   ]
  },
  {
   "cell_type": "markdown",
   "id": "e03bbc57-a8cf-48da-9057-3b1f6b642a08",
   "metadata": {},
   "source": [
    "### 3. Understand basic information about the data\n",
    "#### As we go through this section, write your own definitions of what each function does as a comment in the code box."
   ]
  },
  {
   "cell_type": "code",
   "execution_count": 19,
   "id": "f303e7fb-0e02-48e2-8390-66eefca899aa",
   "metadata": {},
   "outputs": [
    {
     "name": "stdout",
     "output_type": "stream",
     "text": [
      "<class 'pandas.core.frame.DataFrame'>\n",
      "RangeIndex: 1000 entries, 0 to 999\n",
      "Data columns (total 12 columns):\n",
      " #   Column              Non-Null Count  Dtype  \n",
      "---  ------              --------------  -----  \n",
      " 0   Rank                1000 non-null   int64  \n",
      " 1   Title               1000 non-null   object \n",
      " 2   Genre               1000 non-null   object \n",
      " 3   Description         1000 non-null   object \n",
      " 4   Director            1000 non-null   object \n",
      " 5   Actors              1000 non-null   object \n",
      " 6   Year                1000 non-null   int64  \n",
      " 7   Runtime (Minutes)   1000 non-null   int64  \n",
      " 8   Rating              1000 non-null   float64\n",
      " 9   Votes               1000 non-null   int64  \n",
      " 10  Revenue (Millions)  872 non-null    float64\n",
      " 11  Metascore           936 non-null    float64\n",
      "dtypes: float64(3), int64(4), object(5)\n",
      "memory usage: 93.9+ KB\n",
      "None\n"
     ]
    }
   ],
   "source": [
    "# The info() function: \n",
    "print(IMDB.info())\n",
    "\n",
    "# This function returns info about the data in each column. \n",
    "# It specifically returns the number of columns, the name of each column, the number of non-null results in each column, and the data-type."
   ]
  },
  {
   "cell_type": "code",
   "execution_count": 24,
   "id": "ade5ce1f-7a2a-4940-a0f9-eed7891154ff",
   "metadata": {},
   "outputs": [
    {
     "name": "stdout",
     "output_type": "stream",
     "text": [
      "(1000, 12)\n"
     ]
    }
   ],
   "source": [
    "# shape:\n",
    "print(IMDB.shape)\n",
    "\n",
    "# what information does shape provide?  what is the order?\n",
    "\n",
    "#This function returns info about the size of the data frame. Specifically it returns the number of rows, then the number of columns."
   ]
  },
  {
   "cell_type": "code",
   "execution_count": 26,
   "id": "791db782-5041-4259-a3e4-d14c6e2e248a",
   "metadata": {},
   "outputs": [
    {
     "name": "stdout",
     "output_type": "stream",
     "text": [
      "Index(['Rank', 'Title', 'Genre', 'Description', 'Director', 'Actors', 'Year',\n",
      "       'Runtime (Minutes)', 'Rating', 'Votes', 'Revenue (Millions)',\n",
      "       'Metascore'],\n",
      "      dtype='object')\n"
     ]
    }
   ],
   "source": [
    "# columns:\n",
    "print(IMDB.columns)\n",
    "\n",
    "# what information does columns provide?\n",
    "\n",
    "# This function returns the names of the columns."
   ]
  },
  {
   "cell_type": "code",
   "execution_count": 27,
   "id": "994c8783-3f4b-4f56-b9fb-1b50193f1fab",
   "metadata": {},
   "outputs": [
    {
     "name": "stdout",
     "output_type": "stream",
     "text": [
      "              Rank         Year  Runtime (Minutes)       Rating         Votes  \\\n",
      "count  1000.000000  1000.000000        1000.000000  1000.000000  1.000000e+03   \n",
      "mean    500.500000  2012.783000         113.172000     6.723200  1.698083e+05   \n",
      "std     288.819436     3.205962          18.810908     0.945429  1.887626e+05   \n",
      "min       1.000000  2006.000000          66.000000     1.900000  6.100000e+01   \n",
      "25%     250.750000  2010.000000         100.000000     6.200000  3.630900e+04   \n",
      "50%     500.500000  2014.000000         111.000000     6.800000  1.107990e+05   \n",
      "75%     750.250000  2016.000000         123.000000     7.400000  2.399098e+05   \n",
      "max    1000.000000  2016.000000         191.000000     9.000000  1.791916e+06   \n",
      "\n",
      "       Revenue (Millions)   Metascore  \n",
      "count          872.000000  936.000000  \n",
      "mean            82.956376   58.985043  \n",
      "std            103.253540   17.194757  \n",
      "min              0.000000   11.000000  \n",
      "25%             13.270000   47.000000  \n",
      "50%             47.985000   59.500000  \n",
      "75%            113.715000   72.000000  \n",
      "max            936.630000  100.000000  \n"
     ]
    }
   ],
   "source": [
    "# The describe() function: \n",
    "print(IMDB.describe())\n",
    "\n",
    "# The describe function returns a summary about each column. \n",
    "# It returns the count of results, the mean of each result, the standard deviation, the minimum result, the maximum result,\n",
    "# the 1st, 2nd and 3rd quartiles."
   ]
  },
  {
   "cell_type": "markdown",
   "id": "7293ea51-6d32-43ab-8d26-268bdea21de1",
   "metadata": {},
   "source": [
    "### 4. Data Selection -- Indexing and Slicing"
   ]
  },
  {
   "cell_type": "code",
   "execution_count": 29,
   "id": "b3e134af-4ef9-4a9f-9ee1-d507905764e7",
   "metadata": {},
   "outputs": [
    {
     "name": "stdout",
     "output_type": "stream",
     "text": [
      "0       Action,Adventure,Sci-Fi\n",
      "1      Adventure,Mystery,Sci-Fi\n",
      "2               Horror,Thriller\n",
      "3       Animation,Comedy,Family\n",
      "4      Action,Adventure,Fantasy\n",
      "                 ...           \n",
      "995         Crime,Drama,Mystery\n",
      "996                      Horror\n",
      "997         Drama,Music,Romance\n",
      "998            Adventure,Comedy\n",
      "999       Comedy,Family,Fantasy\n",
      "Name: Genre, Length: 1000, dtype: object\n"
     ]
    }
   ],
   "source": [
    "#  Extract data as series\n",
    "# define and print the variable 'genre'\n",
    "Genre = IMDB['Genre']\n",
    "print(Genre)"
   ]
  },
  {
   "cell_type": "code",
   "execution_count": 30,
   "id": "33307a39-0656-4598-8489-55bc80a253eb",
   "metadata": {},
   "outputs": [
    {
     "name": "stdout",
     "output_type": "stream",
     "text": [
      "                        Genre\n",
      "0     Action,Adventure,Sci-Fi\n",
      "1    Adventure,Mystery,Sci-Fi\n",
      "2             Horror,Thriller\n",
      "3     Animation,Comedy,Family\n",
      "4    Action,Adventure,Fantasy\n",
      "..                        ...\n",
      "995       Crime,Drama,Mystery\n",
      "996                    Horror\n",
      "997       Drama,Music,Romance\n",
      "998          Adventure,Comedy\n",
      "999     Comedy,Family,Fantasy\n",
      "\n",
      "[1000 rows x 1 columns]\n"
     ]
    }
   ],
   "source": [
    "# Extract the data as a dataframe and print it\n",
    "Genre = pd.DataFrame(Genre)\n",
    "\n",
    "print(Genre)\n"
   ]
  },
  {
   "cell_type": "code",
   "execution_count": 46,
   "id": "0530ffd1-e143-4a7a-a4e2-c2e88de188f9",
   "metadata": {},
   "outputs": [
    {
     "name": "stdout",
     "output_type": "stream",
     "text": [
      "Rank                                                                 54\n",
      "Title                                                         John Wick\n",
      "Genre                                             Action,Crime,Thriller\n",
      "Description           An ex-hitman comes out of retirement to track ...\n",
      "Director                                                 Chad Stahelski\n",
      "Actors                Keanu Reeves, Michael Nyqvist, Alfie Allen, Wi...\n",
      "Year                                                               2014\n",
      "Runtime (Minutes)                                                   101\n",
      "Rating                                                              7.2\n",
      "Votes                                                            321933\n",
      "Revenue (Millions)                                                 43.0\n",
      "Metascore                                                          68.0\n",
      "Name: 53, dtype: object\n"
     ]
    }
   ],
   "source": [
    "# Extract data using rows\n",
    "# loc function\n",
    "print(IMDB.loc[53])\n"
   ]
  },
  {
   "cell_type": "code",
   "execution_count": 44,
   "id": "7ed5a16d-7302-4c0c-bf9e-0295a8cee090",
   "metadata": {},
   "outputs": [
    {
     "name": "stdout",
     "output_type": "stream",
     "text": [
      "An ex-hitman comes out of retirement to track down the gangsters that took everything from him.\n"
     ]
    }
   ],
   "source": [
    "# iloc function\n",
    "print(IMDB.iloc[53,3])\n"
   ]
  },
  {
   "cell_type": "markdown",
   "id": "35d10282-730f-49c3-bca1-55a990811c80",
   "metadata": {},
   "source": [
    "### 5. Data Selection - Based on Conditional Filtering"
   ]
  },
  {
   "cell_type": "code",
   "execution_count": 71,
   "id": "97cac6a1-dd88-4a8c-86e8-514312bf1bb0",
   "metadata": {},
   "outputs": [
    {
     "name": "stdout",
     "output_type": "stream",
     "text": [
      "     Rank                                      Title  \\\n",
      "941   942                 The Twilight Saga: Eclipse   \n",
      "366   367  The Twilight Saga: Breaking Dawn - Part 2   \n",
      "925   926  The Twilight Saga: Breaking Dawn - Part 1   \n",
      "126   127            Transformers: Age of Extinction   \n",
      "657   658               Teenage Mutant Ninja Turtles   \n",
      "63     64                       Fifty Shades of Grey   \n",
      "575   576                        Clash of the Titans   \n",
      "394   395                                Grown Ups 2   \n",
      "580   581                       Kickboxer: Vengeance   \n",
      "79     80                               Ghostbusters   \n",
      "\n",
      "                        Genre  \\\n",
      "941   Adventure,Drama,Fantasy   \n",
      "366   Adventure,Drama,Fantasy   \n",
      "925   Adventure,Drama,Fantasy   \n",
      "126   Action,Adventure,Sci-Fi   \n",
      "657   Action,Adventure,Comedy   \n",
      "63     Drama,Romance,Thriller   \n",
      "575  Action,Adventure,Fantasy   \n",
      "394                    Comedy   \n",
      "580                    Action   \n",
      "79      Action,Comedy,Fantasy   \n",
      "\n",
      "                                           Description            Director  \\\n",
      "941  As a string of mysterious killings grips Seatt...         David Slade   \n",
      "366  After the birth of Renesmee, the Cullens gathe...         Bill Condon   \n",
      "925  The Quileutes close in on expecting parents Ed...         Bill Condon   \n",
      "126  Autobots must escape sight from a bounty hunte...         Michael Bay   \n",
      "657  When a kingpin threatens New York City, a grou...  Jonathan Liebesman   \n",
      "63   Literature student Anastasia Steele's life cha...  Sam Taylor-Johnson   \n",
      "575  Perseus demigod, son of Zeus, battles the mini...     Louis Leterrier   \n",
      "394  After moving his family back to his hometown t...        Dennis Dugan   \n",
      "580         A kick boxer is out to avenge his brother.      John Stockwell   \n",
      "79   Following a ghost invasion of Manhattan, paran...           Paul Feig   \n",
      "\n",
      "                                                Actors  Year  \\\n",
      "941  Kristen Stewart, Robert Pattinson, Taylor Laut...  2010   \n",
      "366  Kristen Stewart, Robert Pattinson, Taylor Laut...  2012   \n",
      "925  Kristen Stewart, Robert Pattinson, Taylor Laut...  2011   \n",
      "126  Mark Wahlberg, Nicola Peltz, Jack Reynor, Stan...  2014   \n",
      "657  Megan Fox, Will Arnett, William Fichtner, Noel...  2014   \n",
      "63   Dakota Johnson, Jamie Dornan, Jennifer Ehle,El...  2015   \n",
      "575  Sam Worthington, Liam Neeson, Ralph Fiennes,Ja...  2010   \n",
      "394  Adam Sandler, Kevin James, Chris Rock, David S...  2013   \n",
      "580  Dave Bautista, Alain Moussi, Gina Carano, Jean...  2016   \n",
      "79   Melissa McCarthy, Kristen Wiig, Kate McKinnon,...  2016   \n",
      "\n",
      "     Runtime (Minutes)  Rating   Votes  Revenue (Millions)  Metascore  \n",
      "941                124     4.9  192740              300.52       58.0  \n",
      "366                115     5.5  194329              292.30       52.0  \n",
      "925                117     4.9  190244              281.28       45.0  \n",
      "126                165     5.7  255483              245.43       32.0  \n",
      "657                101     5.9  178527              190.87       31.0  \n",
      "63                 125     4.1  244474              166.15       46.0  \n",
      "575                106     5.8  238206              163.19       39.0  \n",
      "394                101     5.4  114482              133.67       19.0  \n",
      "580                 90     4.9    6809              131.56       37.0  \n",
      "79                 116     5.3  147717              128.34       60.0  \n"
     ]
    }
   ],
   "source": [
    "# Use the code block to select movies that have been released between 2010-2016, with a rating of less than 6.0, but generated a signifianct (top) revenue.\n",
    "filtered_IMDB = IMDB[(IMDB['Year'] > 2009) & (IMDB['Year'] < 2017) & (IMDB['Rating'] < 6.0)]\n",
    "films_2010_to_2016_sort_by_earnings = filtered_IMDB.sort_values(by = 'Revenue (Millions)', ascending=False)\n",
    "top_10_biggest_earners_2010_to_2016 = films_2010_to_2016_sort_by_earnings.head(10)\n",
    "\n",
    "print(top_10_biggest_earners_2010_to_2016)\n"
   ]
  },
  {
   "cell_type": "code",
   "execution_count": 51,
   "id": "f0c045a1-200a-4d58-9b9f-480edb106765",
   "metadata": {},
   "outputs": [],
   "source": [
    "# Note: The article is expecting more than 1 Twilight movie at the time of publishing.  \n",
    "#To find the second Twilight movie, try manipulating the quantile value.  \n",
    "#How specific can you get?"
   ]
  }
 ],
 "metadata": {
  "kernelspec": {
   "display_name": "Python 3 (ipykernel)",
   "language": "python",
   "name": "python3"
  },
  "language_info": {
   "codemirror_mode": {
    "name": "ipython",
    "version": 3
   },
   "file_extension": ".py",
   "mimetype": "text/x-python",
   "name": "python",
   "nbconvert_exporter": "python",
   "pygments_lexer": "ipython3",
   "version": "3.12.4"
  }
 },
 "nbformat": 4,
 "nbformat_minor": 5
}
