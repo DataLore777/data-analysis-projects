{
 "cells": [
  {
   "cell_type": "markdown",
   "id": "2f470e67-1623-4416-b9c2-8367f7834a26",
   "metadata": {},
   "source": [
    "# Exploratory Data Analysis with pandas Studio\n",
    "\n",
    "## Data Analysis of IMDB movies data\n",
    "\n",
    "#### Blocks have been created for your code\n",
    "\n",
    "#### Click on the following link and download the dataset from [Kaggle](https://www.kaggle.com/PromptCloudHQ/imdb-data)."
   ]
  },
  {
   "cell_type": "markdown",
   "id": "34632281-1e15-44b1-a3e3-b82ddacb5cbd",
   "metadata": {},
   "source": [
    "### 1. Read data"
   ]
  },
  {
   "cell_type": "code",
   "execution_count": 198,
   "id": "070ebed9-c948-4821-9a24-67f0e3fe8fce",
   "metadata": {},
   "outputs": [
    {
     "ename": "NameError",
     "evalue": "name 'df' is not defined",
     "output_type": "error",
     "traceback": [
      "\u001b[1;31m---------------------------------------------------------------------------\u001b[0m",
      "\u001b[1;31mNameError\u001b[0m                                 Traceback (most recent call last)",
      "Cell \u001b[1;32mIn[198], line 8\u001b[0m\n\u001b[0;32m      6\u001b[0m IMDB \u001b[38;5;241m=\u001b[39m pd\u001b[38;5;241m.\u001b[39mDataFrame(IMDB)\n\u001b[0;32m      7\u001b[0m \u001b[38;5;66;03m# print(IMDB.head(15))\u001b[39;00m\n\u001b[1;32m----> 8\u001b[0m \u001b[38;5;28mprint\u001b[39m(\u001b[43mdf\u001b[49m\u001b[38;5;241m.\u001b[39mhead(\u001b[38;5;241m15\u001b[39m))\n",
      "\u001b[1;31mNameError\u001b[0m: name 'df' is not defined"
     ]
    }
   ],
   "source": [
    "# import pandas\n",
    "import pandas as pd\n",
    "# create your data variabe using .read_csv \n",
    "IMDB = pd.read_csv('IMDB-Movie-Data.csv')\n",
    "# create your data_indexed variable here\n",
    "IMDB = pd.DataFrame(IMDB)\n",
    "print(IMDB.head(15))"
   ]
  },
  {
   "cell_type": "code",
   "execution_count": 184,
   "id": "608c357a-271b-49c1-9b96-68b5c1cb7046",
   "metadata": {},
   "outputs": [],
   "source": [
    "# If you are having trouble reading your file, try finding the path.  \n",
    "    # Right click on your data set, on the pop-up menu select \"Copy Path\" then paste it into your read_csv() function."
   ]
  },
  {
   "cell_type": "code",
   "execution_count": 185,
   "id": "5d8b578c-750c-491b-98d5-140a237ad940",
   "metadata": {},
   "outputs": [
    {
     "name": "stdout",
     "output_type": "stream",
     "text": [
      "                        Title                     Genre  \\\n",
      "Rank                                                      \n",
      "1     Guardians of the Galaxy   Action,Adventure,Sci-Fi   \n",
      "2                  Prometheus  Adventure,Mystery,Sci-Fi   \n",
      "3                       Split           Horror,Thriller   \n",
      "4                        Sing   Animation,Comedy,Family   \n",
      "5               Suicide Squad  Action,Adventure,Fantasy   \n",
      "...                       ...                       ...   \n",
      "996      Secret in Their Eyes       Crime,Drama,Mystery   \n",
      "997           Hostel: Part II                    Horror   \n",
      "998    Step Up 2: The Streets       Drama,Music,Romance   \n",
      "999              Search Party          Adventure,Comedy   \n",
      "1000               Nine Lives     Comedy,Family,Fantasy   \n",
      "\n",
      "                                            Description              Director  \\\n",
      "Rank                                                                            \n",
      "1     A group of intergalactic criminals are forced ...            James Gunn   \n",
      "2     Following clues to the origin of mankind, a te...          Ridley Scott   \n",
      "3     Three girls are kidnapped by a man with a diag...    M. Night Shyamalan   \n",
      "4     In a city of humanoid animals, a hustling thea...  Christophe Lourdelet   \n",
      "5     A secret government agency recruits some of th...            David Ayer   \n",
      "...                                                 ...                   ...   \n",
      "996   A tight-knit team of rising investigators, alo...             Billy Ray   \n",
      "997   Three American college students studying abroa...              Eli Roth   \n",
      "998   Romantic sparks occur between two dance studen...            Jon M. Chu   \n",
      "999   A pair of friends embark on a mission to reuni...        Scot Armstrong   \n",
      "1000  A stuffy businessman finds himself trapped ins...      Barry Sonnenfeld   \n",
      "\n",
      "                                                 Actors  Year  \\\n",
      "Rank                                                            \n",
      "1     Chris Pratt, Vin Diesel, Bradley Cooper, Zoe S...  2014   \n",
      "2     Noomi Rapace, Logan Marshall-Green, Michael Fa...  2012   \n",
      "3     James McAvoy, Anya Taylor-Joy, Haley Lu Richar...  2016   \n",
      "4     Matthew McConaughey,Reese Witherspoon, Seth Ma...  2016   \n",
      "5     Will Smith, Jared Leto, Margot Robbie, Viola D...  2016   \n",
      "...                                                 ...   ...   \n",
      "996   Chiwetel Ejiofor, Nicole Kidman, Julia Roberts...  2015   \n",
      "997   Lauren German, Heather Matarazzo, Bijou Philli...  2007   \n",
      "998   Robert Hoffman, Briana Evigan, Cassie Ventura,...  2008   \n",
      "999   Adam Pally, T.J. Miller, Thomas Middleditch,Sh...  2014   \n",
      "1000  Kevin Spacey, Jennifer Garner, Robbie Amell,Ch...  2016   \n",
      "\n",
      "      Runtime (Minutes)  Rating   Votes  Revenue (Millions)  Metascore  \n",
      "Rank                                                                    \n",
      "1                   121     8.1  757074              333.13       76.0  \n",
      "2                   124     7.0  485820              126.46       65.0  \n",
      "3                   117     7.3  157606              138.12       62.0  \n",
      "4                   108     7.2   60545              270.32       59.0  \n",
      "5                   123     6.2  393727              325.02       40.0  \n",
      "...                 ...     ...     ...                 ...        ...  \n",
      "996                 111     6.2   27585                 NaN       45.0  \n",
      "997                  94     5.5   73152               17.54       46.0  \n",
      "998                  98     6.2   70699               58.01       50.0  \n",
      "999                  93     5.6    4881                 NaN       22.0  \n",
      "1000                 87     5.3   12435               19.64       11.0  \n",
      "\n",
      "[1000 rows x 11 columns]\n"
     ]
    }
   ],
   "source": [
    "# Read data with specified explicit index\n",
    "IMDB = IMDB.set_index('Rank')\n",
    "print(IMDB)\n",
    "#print(data_indexed)"
   ]
  },
  {
   "cell_type": "markdown",
   "id": "f449d3ea-91fe-45f5-8d6b-e6ccab3502d7",
   "metadata": {
    "tags": []
   },
   "source": [
    "### 2. View Data\n",
    "#### As we go through this section, write your own definitions of what each function does as a comment in the code box."
   ]
  },
  {
   "cell_type": "code",
   "execution_count": 186,
   "id": "ac9b2d61-7ed5-4e83-995d-c498036f37f9",
   "metadata": {},
   "outputs": [
    {
     "name": "stdout",
     "output_type": "stream",
     "text": [
      "                        Title                     Genre  \\\n",
      "Rank                                                      \n",
      "1     Guardians of the Galaxy   Action,Adventure,Sci-Fi   \n",
      "2                  Prometheus  Adventure,Mystery,Sci-Fi   \n",
      "3                       Split           Horror,Thriller   \n",
      "4                        Sing   Animation,Comedy,Family   \n",
      "5               Suicide Squad  Action,Adventure,Fantasy   \n",
      "\n",
      "                                            Description              Director  \\\n",
      "Rank                                                                            \n",
      "1     A group of intergalactic criminals are forced ...            James Gunn   \n",
      "2     Following clues to the origin of mankind, a te...          Ridley Scott   \n",
      "3     Three girls are kidnapped by a man with a diag...    M. Night Shyamalan   \n",
      "4     In a city of humanoid animals, a hustling thea...  Christophe Lourdelet   \n",
      "5     A secret government agency recruits some of th...            David Ayer   \n",
      "\n",
      "                                                 Actors  Year  \\\n",
      "Rank                                                            \n",
      "1     Chris Pratt, Vin Diesel, Bradley Cooper, Zoe S...  2014   \n",
      "2     Noomi Rapace, Logan Marshall-Green, Michael Fa...  2012   \n",
      "3     James McAvoy, Anya Taylor-Joy, Haley Lu Richar...  2016   \n",
      "4     Matthew McConaughey,Reese Witherspoon, Seth Ma...  2016   \n",
      "5     Will Smith, Jared Leto, Margot Robbie, Viola D...  2016   \n",
      "\n",
      "      Runtime (Minutes)  Rating   Votes  Revenue (Millions)  Metascore  \n",
      "Rank                                                                    \n",
      "1                   121     8.1  757074              333.13       76.0  \n",
      "2                   124     7.0  485820              126.46       65.0  \n",
      "3                   117     7.3  157606              138.12       62.0  \n",
      "4                   108     7.2   60545              270.32       59.0  \n",
      "5                   123     6.2  393727              325.02       40.0  \n"
     ]
    }
   ],
   "source": [
    "# Use the head() function to view the first 5 rows of the data set\n",
    "print(IMDB.head(5))\n",
    "# This function returns the first (n) rows from the dataset."
   ]
  },
  {
   "cell_type": "code",
   "execution_count": 187,
   "id": "3fffca4b-90f4-4f73-a9af-f0b02886f8b3",
   "metadata": {},
   "outputs": [
    {
     "name": "stdout",
     "output_type": "stream",
     "text": [
      "                       Title                  Genre  \\\n",
      "Rank                                                  \n",
      "996     Secret in Their Eyes    Crime,Drama,Mystery   \n",
      "997          Hostel: Part II                 Horror   \n",
      "998   Step Up 2: The Streets    Drama,Music,Romance   \n",
      "999             Search Party       Adventure,Comedy   \n",
      "1000              Nine Lives  Comedy,Family,Fantasy   \n",
      "\n",
      "                                            Description          Director  \\\n",
      "Rank                                                                        \n",
      "996   A tight-knit team of rising investigators, alo...         Billy Ray   \n",
      "997   Three American college students studying abroa...          Eli Roth   \n",
      "998   Romantic sparks occur between two dance studen...        Jon M. Chu   \n",
      "999   A pair of friends embark on a mission to reuni...    Scot Armstrong   \n",
      "1000  A stuffy businessman finds himself trapped ins...  Barry Sonnenfeld   \n",
      "\n",
      "                                                 Actors  Year  \\\n",
      "Rank                                                            \n",
      "996   Chiwetel Ejiofor, Nicole Kidman, Julia Roberts...  2015   \n",
      "997   Lauren German, Heather Matarazzo, Bijou Philli...  2007   \n",
      "998   Robert Hoffman, Briana Evigan, Cassie Ventura,...  2008   \n",
      "999   Adam Pally, T.J. Miller, Thomas Middleditch,Sh...  2014   \n",
      "1000  Kevin Spacey, Jennifer Garner, Robbie Amell,Ch...  2016   \n",
      "\n",
      "      Runtime (Minutes)  Rating  Votes  Revenue (Millions)  Metascore  \n",
      "Rank                                                                   \n",
      "996                 111     6.2  27585                 NaN       45.0  \n",
      "997                  94     5.5  73152               17.54       46.0  \n",
      "998                  98     6.2  70699               58.01       50.0  \n",
      "999                  93     5.6   4881                 NaN       22.0  \n",
      "1000                 87     5.3  12435               19.64       11.0  \n"
     ]
    }
   ],
   "source": [
    "# Use the tail() function to view the last 5 rows of the data set\n",
    "print(IMDB.tail(5))\n",
    "\n",
    "# This function returns the last (n) rows from the dataset."
   ]
  },
  {
   "cell_type": "markdown",
   "id": "e03bbc57-a8cf-48da-9057-3b1f6b642a08",
   "metadata": {},
   "source": [
    "### 3. Understand basic information about the data\n",
    "#### As we go through this section, write your own definitions of what each function does as a comment in the code box."
   ]
  },
  {
   "cell_type": "code",
   "execution_count": 188,
   "id": "f303e7fb-0e02-48e2-8390-66eefca899aa",
   "metadata": {},
   "outputs": [
    {
     "name": "stdout",
     "output_type": "stream",
     "text": [
      "<class 'pandas.core.frame.DataFrame'>\n",
      "Index: 1000 entries, 1 to 1000\n",
      "Data columns (total 11 columns):\n",
      " #   Column              Non-Null Count  Dtype  \n",
      "---  ------              --------------  -----  \n",
      " 0   Title               1000 non-null   object \n",
      " 1   Genre               1000 non-null   object \n",
      " 2   Description         1000 non-null   object \n",
      " 3   Director            1000 non-null   object \n",
      " 4   Actors              1000 non-null   object \n",
      " 5   Year                1000 non-null   int64  \n",
      " 6   Runtime (Minutes)   1000 non-null   int64  \n",
      " 7   Rating              1000 non-null   float64\n",
      " 8   Votes               1000 non-null   int64  \n",
      " 9   Revenue (Millions)  872 non-null    float64\n",
      " 10  Metascore           936 non-null    float64\n",
      "dtypes: float64(3), int64(3), object(5)\n",
      "memory usage: 93.8+ KB\n",
      "None\n"
     ]
    }
   ],
   "source": [
    "# The info() function: \n",
    "print(IMDB.info())\n",
    "\n",
    "# This function returns info about the data in each column. \n",
    "# It specifically returns the number of columns, the name of each column, the number of non-null results in each column, and the data-type."
   ]
  },
  {
   "cell_type": "code",
   "execution_count": 189,
   "id": "ade5ce1f-7a2a-4940-a0f9-eed7891154ff",
   "metadata": {},
   "outputs": [
    {
     "name": "stdout",
     "output_type": "stream",
     "text": [
      "(1000, 11)\n"
     ]
    }
   ],
   "source": [
    "# shape:\n",
    "print(IMDB.shape)\n",
    "\n",
    "# what information does shape provide?  what is the order?\n",
    "\n",
    "#This function returns info about the size of the data frame. Specifically it returns the number of rows, then the number of columns."
   ]
  },
  {
   "cell_type": "code",
   "execution_count": 190,
   "id": "791db782-5041-4259-a3e4-d14c6e2e248a",
   "metadata": {},
   "outputs": [
    {
     "name": "stdout",
     "output_type": "stream",
     "text": [
      "Index(['Title', 'Genre', 'Description', 'Director', 'Actors', 'Year',\n",
      "       'Runtime (Minutes)', 'Rating', 'Votes', 'Revenue (Millions)',\n",
      "       'Metascore'],\n",
      "      dtype='object')\n"
     ]
    }
   ],
   "source": [
    "# columns:\n",
    "print(IMDB.columns)\n",
    "\n",
    "# what information does columns provide?\n",
    "\n",
    "# This function returns the names of the columns."
   ]
  },
  {
   "cell_type": "code",
   "execution_count": 191,
   "id": "994c8783-3f4b-4f56-b9fb-1b50193f1fab",
   "metadata": {},
   "outputs": [
    {
     "name": "stdout",
     "output_type": "stream",
     "text": [
      "              Year  Runtime (Minutes)       Rating         Votes  \\\n",
      "count  1000.000000        1000.000000  1000.000000  1.000000e+03   \n",
      "mean   2012.783000         113.172000     6.723200  1.698083e+05   \n",
      "std       3.205962          18.810908     0.945429  1.887626e+05   \n",
      "min    2006.000000          66.000000     1.900000  6.100000e+01   \n",
      "25%    2010.000000         100.000000     6.200000  3.630900e+04   \n",
      "50%    2014.000000         111.000000     6.800000  1.107990e+05   \n",
      "75%    2016.000000         123.000000     7.400000  2.399098e+05   \n",
      "max    2016.000000         191.000000     9.000000  1.791916e+06   \n",
      "\n",
      "       Revenue (Millions)   Metascore  \n",
      "count          872.000000  936.000000  \n",
      "mean            82.956376   58.985043  \n",
      "std            103.253540   17.194757  \n",
      "min              0.000000   11.000000  \n",
      "25%             13.270000   47.000000  \n",
      "50%             47.985000   59.500000  \n",
      "75%            113.715000   72.000000  \n",
      "max            936.630000  100.000000  \n"
     ]
    }
   ],
   "source": [
    "# The describe() function: \n",
    "print(IMDB.describe())\n",
    "\n",
    "# The describe function returns a summary about each column. \n",
    "# It returns the count of results, the mean of each result, the standard deviation, the minimum result, the maximum result,\n",
    "# the 1st, 2nd and 3rd quartiles."
   ]
  },
  {
   "cell_type": "markdown",
   "id": "7293ea51-6d32-43ab-8d26-268bdea21de1",
   "metadata": {},
   "source": [
    "### 4. Data Selection -- Indexing and Slicing"
   ]
  },
  {
   "cell_type": "code",
   "execution_count": 192,
   "id": "b3e134af-4ef9-4a9f-9ee1-d507905764e7",
   "metadata": {},
   "outputs": [
    {
     "name": "stdout",
     "output_type": "stream",
     "text": [
      "Rank\n",
      "1        Action,Adventure,Sci-Fi\n",
      "2       Adventure,Mystery,Sci-Fi\n",
      "3                Horror,Thriller\n",
      "4        Animation,Comedy,Family\n",
      "5       Action,Adventure,Fantasy\n",
      "                  ...           \n",
      "996          Crime,Drama,Mystery\n",
      "997                       Horror\n",
      "998          Drama,Music,Romance\n",
      "999             Adventure,Comedy\n",
      "1000       Comedy,Family,Fantasy\n",
      "Name: Genre, Length: 1000, dtype: object\n",
      "Rank\n",
      "1        Action,Adventure,Sci-Fi\n",
      "2       Adventure,Mystery,Sci-Fi\n",
      "3                Horror,Thriller\n",
      "4        Animation,Comedy,Family\n",
      "5       Action,Adventure,Fantasy\n",
      "                  ...           \n",
      "996          Crime,Drama,Mystery\n",
      "997                       Horror\n",
      "998          Drama,Music,Romance\n",
      "999             Adventure,Comedy\n",
      "1000       Comedy,Family,Fantasy\n",
      "Name: Genre, Length: 1000, dtype: object\n"
     ]
    }
   ],
   "source": [
    "#  Extract data as series\n",
    "# define and print the variable 'genre'\n",
    "Genre = IMDB['Genre']\n",
    "print(Genre)\n",
    "# OR\n",
    "Genre = IMDB.loc[:,'Genre']\n",
    "print(Genre)"
   ]
  },
  {
   "cell_type": "code",
   "execution_count": 193,
   "id": "33307a39-0656-4598-8489-55bc80a253eb",
   "metadata": {},
   "outputs": [
    {
     "name": "stdout",
     "output_type": "stream",
     "text": [
      "                         Genre\n",
      "Rank                          \n",
      "1      Action,Adventure,Sci-Fi\n",
      "2     Adventure,Mystery,Sci-Fi\n",
      "3              Horror,Thriller\n",
      "4      Animation,Comedy,Family\n",
      "5     Action,Adventure,Fantasy\n",
      "...                        ...\n",
      "996        Crime,Drama,Mystery\n",
      "997                     Horror\n",
      "998        Drama,Music,Romance\n",
      "999           Adventure,Comedy\n",
      "1000     Comedy,Family,Fantasy\n",
      "\n",
      "[1000 rows x 1 columns]\n"
     ]
    }
   ],
   "source": [
    "# Extract the data as a dataframe and print it\n",
    "Genre = pd.DataFrame(Genre)\n",
    "\n",
    "print(Genre)"
   ]
  },
  {
   "cell_type": "code",
   "execution_count": 194,
   "id": "0530ffd1-e143-4a7a-a4e2-c2e88de188f9",
   "metadata": {},
   "outputs": [
    {
     "name": "stdout",
     "output_type": "stream",
     "text": [
      "Title                                                      Mother's Day\n",
      "Genre                                                      Comedy,Drama\n",
      "Description           Three generations come together in the week le...\n",
      "Director                                                 Garry Marshall\n",
      "Actors                Jennifer Aniston, Kate Hudson, Julia Roberts, ...\n",
      "Year                                                               2016\n",
      "Runtime (Minutes)                                                   118\n",
      "Rating                                                              5.6\n",
      "Votes                                                             20221\n",
      "Revenue (Millions)                                                32.46\n",
      "Metascore                                                          18.0\n",
      "Name: 53, dtype: object\n"
     ]
    }
   ],
   "source": [
    "# Extract data using rows\n",
    "# loc function\n",
    "print(IMDB.loc[53])\n"
   ]
  },
  {
   "cell_type": "code",
   "execution_count": 195,
   "id": "7ed5a16d-7302-4c0c-bf9e-0295a8cee090",
   "metadata": {},
   "outputs": [
    {
     "name": "stdout",
     "output_type": "stream",
     "text": [
      "An ex-hitman comes out of retirement to track down the gangsters that took everything from him.\n"
     ]
    }
   ],
   "source": [
    "# iloc function\n",
    "print(IMDB.iloc[53,2])\n"
   ]
  },
  {
   "cell_type": "markdown",
   "id": "35d10282-730f-49c3-bca1-55a990811c80",
   "metadata": {},
   "source": [
    "### 5. Data Selection - Based on Conditional Filtering"
   ]
  },
  {
   "cell_type": "code",
   "execution_count": 196,
   "id": "97cac6a1-dd88-4a8c-86e8-514312bf1bb0",
   "metadata": {},
   "outputs": [
    {
     "name": "stdout",
     "output_type": "stream",
     "text": [
      "                                          Title                     Genre  \\\n",
      "Rank                                                                        \n",
      "942                  The Twilight Saga: Eclipse   Adventure,Drama,Fantasy   \n",
      "367   The Twilight Saga: Breaking Dawn - Part 2   Adventure,Drama,Fantasy   \n",
      "926   The Twilight Saga: Breaking Dawn - Part 1   Adventure,Drama,Fantasy   \n",
      "127             Transformers: Age of Extinction   Action,Adventure,Sci-Fi   \n",
      "658                Teenage Mutant Ninja Turtles   Action,Adventure,Comedy   \n",
      "64                         Fifty Shades of Grey    Drama,Romance,Thriller   \n",
      "576                         Clash of the Titans  Action,Adventure,Fantasy   \n",
      "395                                 Grown Ups 2                    Comedy   \n",
      "581                        Kickboxer: Vengeance                    Action   \n",
      "80                                 Ghostbusters     Action,Comedy,Fantasy   \n",
      "\n",
      "                                            Description            Director  \\\n",
      "Rank                                                                          \n",
      "942   As a string of mysterious killings grips Seatt...         David Slade   \n",
      "367   After the birth of Renesmee, the Cullens gathe...         Bill Condon   \n",
      "926   The Quileutes close in on expecting parents Ed...         Bill Condon   \n",
      "127   Autobots must escape sight from a bounty hunte...         Michael Bay   \n",
      "658   When a kingpin threatens New York City, a grou...  Jonathan Liebesman   \n",
      "64    Literature student Anastasia Steele's life cha...  Sam Taylor-Johnson   \n",
      "576   Perseus demigod, son of Zeus, battles the mini...     Louis Leterrier   \n",
      "395   After moving his family back to his hometown t...        Dennis Dugan   \n",
      "581          A kick boxer is out to avenge his brother.      John Stockwell   \n",
      "80    Following a ghost invasion of Manhattan, paran...           Paul Feig   \n",
      "\n",
      "                                                 Actors  Year  \\\n",
      "Rank                                                            \n",
      "942   Kristen Stewart, Robert Pattinson, Taylor Laut...  2010   \n",
      "367   Kristen Stewart, Robert Pattinson, Taylor Laut...  2012   \n",
      "926   Kristen Stewart, Robert Pattinson, Taylor Laut...  2011   \n",
      "127   Mark Wahlberg, Nicola Peltz, Jack Reynor, Stan...  2014   \n",
      "658   Megan Fox, Will Arnett, William Fichtner, Noel...  2014   \n",
      "64    Dakota Johnson, Jamie Dornan, Jennifer Ehle,El...  2015   \n",
      "576   Sam Worthington, Liam Neeson, Ralph Fiennes,Ja...  2010   \n",
      "395   Adam Sandler, Kevin James, Chris Rock, David S...  2013   \n",
      "581   Dave Bautista, Alain Moussi, Gina Carano, Jean...  2016   \n",
      "80    Melissa McCarthy, Kristen Wiig, Kate McKinnon,...  2016   \n",
      "\n",
      "      Runtime (Minutes)  Rating   Votes  Revenue (Millions)  Metascore  \n",
      "Rank                                                                    \n",
      "942                 124     4.9  192740              300.52       58.0  \n",
      "367                 115     5.5  194329              292.30       52.0  \n",
      "926                 117     4.9  190244              281.28       45.0  \n",
      "127                 165     5.7  255483              245.43       32.0  \n",
      "658                 101     5.9  178527              190.87       31.0  \n",
      "64                  125     4.1  244474              166.15       46.0  \n",
      "576                 106     5.8  238206              163.19       39.0  \n",
      "395                 101     5.4  114482              133.67       19.0  \n",
      "581                  90     4.9    6809              131.56       37.0  \n",
      "80                  116     5.3  147717              128.34       60.0  \n"
     ]
    }
   ],
   "source": [
    "# Use the code block to select movies that have been released between 2010-2016, with a rating of less than 6.0, but generated a signifianct (top) revenue.\n",
    "filtered_IMDB = IMDB[(IMDB['Year'] > 2009) & (IMDB['Year'] < 2017) & (IMDB['Rating'] < 6.0)]\n",
    "films_2010_to_2016_sort_by_earnings = filtered_IMDB.sort_values(by = 'Revenue (Millions)', ascending=False)\n",
    "top_10_biggest_earners_2010_to_2016 = films_2010_to_2016_sort_by_earnings.head(10)\n",
    "\n",
    "print(top_10_biggest_earners_2010_to_2016)\n"
   ]
  },
  {
   "cell_type": "code",
   "execution_count": 197,
   "id": "f0c045a1-200a-4d58-9b9f-480edb106765",
   "metadata": {},
   "outputs": [],
   "source": [
    "# Note: The article is expecting more than 1 Twilight movie at the time of publishing.  \n",
    "#To find the second Twilight movie, try manipulating the quantile value.  \n",
    "#How specific can you get?"
   ]
  }
 ],
 "metadata": {
  "kernelspec": {
   "display_name": "Python 3 (ipykernel)",
   "language": "python",
   "name": "python3"
  },
  "language_info": {
   "codemirror_mode": {
    "name": "ipython",
    "version": 3
   },
   "file_extension": ".py",
   "mimetype": "text/x-python",
   "name": "python",
   "nbconvert_exporter": "python",
   "pygments_lexer": "ipython3",
   "version": "3.12.4"
  }
 },
 "nbformat": 4,
 "nbformat_minor": 5
}
